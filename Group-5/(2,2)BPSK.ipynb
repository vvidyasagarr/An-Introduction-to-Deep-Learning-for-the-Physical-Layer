{
 "cells": [
  {
   "cell_type": "code",
   "execution_count": 1,
   "id": "7f7e3e95",
   "metadata": {},
   "outputs": [],
   "source": [
    "# importing libs\n",
    "import numpy as np\n",
    "import tensorflow as tf\n",
    "import keras\n",
    "from keras.layers import Input, Dense, GaussianNoise,Lambda,Dropout\n",
    "from keras.models import Model\n",
    "from keras import regularizers\n",
    "from tensorflow.keras.layers import BatchNormalization\n",
    "from keras.optimizers import Adam,SGD\n",
    "from keras import backend as K\n",
    "\n",
    "# for reproducing reslut\n",
    "from numpy.random import seed\n",
    "seed(1)\n",
    "import tensorflow \n",
    "tensorflow.random.set_seed(3)"
   ]
  },
  {
   "cell_type": "code",
   "execution_count": 2,
   "id": "782f866f",
   "metadata": {},
   "outputs": [
    {
     "name": "stdout",
     "output_type": "stream",
     "text": [
      "M: 4 k: 2 n: 2\n"
     ]
    }
   ],
   "source": [
    "# defining parameters\n",
    "# define (n,k) here for (n,k) autoencoder\n",
    "# n = n_channel \n",
    "# k = log2(M)  ==> so for (2,2) autoencoder n_channel = 2 and M = 2^2 = 4 \n",
    "M = 4\n",
    "k = np.log2(M)\n",
    "k = int(k)\n",
    "n_channel = 2\n",
    "R = k/n_channel\n",
    "print ('M:',M,'k:',k,'n:',n_channel)"
   ]
  },
  {
   "cell_type": "code",
   "execution_count": 3,
   "id": "248a794b",
   "metadata": {},
   "outputs": [],
   "source": [
    "#generating data of size N\n",
    "N = 8000\n",
    "label = np.random.randint(M,size=N)\n",
    "# creating one hot encoded vectors\n",
    "data = []\n",
    "for i in label:\n",
    "    temp = np.zeros(M)\n",
    "    temp[i] = 1\n",
    "    data.append(temp)   "
   ]
  },
  {
   "cell_type": "code",
   "execution_count": 4,
   "id": "53f2e423",
   "metadata": {},
   "outputs": [
    {
     "name": "stdout",
     "output_type": "stream",
     "text": [
      "(8000, 4)\n"
     ]
    }
   ],
   "source": [
    "# checking data shape\n",
    "data = np.array(data)\n",
    "print (data.shape)"
   ]
  },
  {
   "cell_type": "code",
   "execution_count": 5,
   "id": "05647283",
   "metadata": {},
   "outputs": [
    {
     "name": "stdout",
     "output_type": "stream",
     "text": [
      "1 [0. 1. 0. 0.]\n",
      "0 [1. 0. 0. 0.]\n",
      "1 [0. 1. 0. 0.]\n",
      "3 [0. 0. 0. 1.]\n",
      "1 [0. 1. 0. 0.]\n",
      "3 [0. 0. 0. 1.]\n",
      "0 [1. 0. 0. 0.]\n",
      "3 [0. 0. 0. 1.]\n",
      "0 [1. 0. 0. 0.]\n"
     ]
    }
   ],
   "source": [
    "# checking generated data with it's label\n",
    "temp_check = [17,23,45,67,89,96,72,250,350]\n",
    "for i in temp_check:\n",
    "    print(label[i],data[i])"
   ]
  },
  {
   "cell_type": "code",
   "execution_count": 6,
   "id": "2e4d86c1",
   "metadata": {},
   "outputs": [],
   "source": [
    "# defining autoencoder and it's layer\n",
    "input_signal = Input(shape=(M,))\n",
    "encoded = Dense(M, activation='relu')(input_signal)\n",
    "encoded1 = Dense(n_channel, activation='linear')(encoded)\n",
    "encoded2 = Lambda(lambda x: np.sqrt(n_channel)*K.l2_normalize(x,axis=1))(encoded1)\n",
    "\n",
    "EbNo_train = 5.01187 #  coverted 7 db of EbNo"
   ]
  },
  {
   "cell_type": "code",
   "execution_count": 7,
   "id": "8206dd62",
   "metadata": {},
   "outputs": [
    {
     "name": "stderr",
     "output_type": "stream",
     "text": [
      "C:\\Users\\Surya\\AppData\\Local\\Programs\\Python\\Python310\\lib\\site-packages\\keras\\optimizers\\optimizer_v2\\adam.py:110: UserWarning: The `lr` argument is deprecated, use `learning_rate` instead.\n",
      "  super(Adam, self).__init__(name, **kwargs)\n"
     ]
    }
   ],
   "source": [
    "# defining autoencoder and it's layer\n",
    "input_signal = Input(shape=(M,))\n",
    "encoded = Dense(M, activation='relu')(input_signal)\n",
    "encoded1 = Dense(n_channel, activation='linear')(encoded)\n",
    "encoded2 = Lambda(lambda x: np.sqrt(n_channel)*K.l2_normalize(x,axis=1))(encoded1)\n",
    "\n",
    "EbNo_train = 5.01187 #  coverted 7 db of EbNo\n",
    "encoded3 = GaussianNoise(np.sqrt(1/(2*R*EbNo_train)))(encoded2)\n",
    "\n",
    "decoded = Dense(M, activation='relu')(encoded3)\n",
    "decoded1 = Dense(M, activation='softmax')(decoded)\n",
    "autoencoder = Model(input_signal, decoded1)\n",
    "adam = Adam(lr=0.01)\n",
    "autoencoder.compile(optimizer=adam, loss='categorical_crossentropy')"
   ]
  },
  {
   "cell_type": "code",
   "execution_count": 8,
   "id": "97a076fa",
   "metadata": {},
   "outputs": [
    {
     "name": "stdout",
     "output_type": "stream",
     "text": [
      "Model: \"model\"\n",
      "_________________________________________________________________\n",
      " Layer (type)                Output Shape              Param #   \n",
      "=================================================================\n",
      " input_2 (InputLayer)        [(None, 4)]               0         \n",
      "                                                                 \n",
      " dense_2 (Dense)             (None, 4)                 20        \n",
      "                                                                 \n",
      " dense_3 (Dense)             (None, 2)                 10        \n",
      "                                                                 \n",
      " lambda_1 (Lambda)           (None, 2)                 0         \n",
      "                                                                 \n",
      " gaussian_noise (GaussianNoi  (None, 2)                0         \n",
      " se)                                                             \n",
      "                                                                 \n",
      " dense_4 (Dense)             (None, 4)                 12        \n",
      "                                                                 \n",
      " dense_5 (Dense)             (None, 4)                 20        \n",
      "                                                                 \n",
      "=================================================================\n",
      "Total params: 62\n",
      "Trainable params: 62\n",
      "Non-trainable params: 0\n",
      "_________________________________________________________________\n",
      "None\n"
     ]
    }
   ],
   "source": [
    "# printing summary of layers and it's trainable parameters \n",
    "print (autoencoder.summary())\n",
    "# for tensor board visualization\n",
    "#tbCallBack = keras.callbacks.TensorBoard(log_dir='./logs', histogram_freq=0, batch_size=32, write_graph=True, write_grads=True, write_images=False, embeddings_freq=0, embeddings_layer_names=None, embeddings_metadata=None)\n",
    "# traning auto encoder"
   ]
  },
  {
   "cell_type": "code",
   "execution_count": 9,
   "id": "1507c468",
   "metadata": {
    "scrolled": true
   },
   "outputs": [
    {
     "name": "stdout",
     "output_type": "stream",
     "text": [
      "Epoch 1/45\n",
      "250/250 [==============================] - 1s 2ms/step - loss: 0.4327\n",
      "Epoch 2/45\n",
      "250/250 [==============================] - 1s 3ms/step - loss: 0.0368\n",
      "Epoch 3/45\n",
      "250/250 [==============================] - 1s 3ms/step - loss: 0.0233\n",
      "Epoch 4/45\n",
      "250/250 [==============================] - 1s 3ms/step - loss: 0.0154\n",
      "Epoch 5/45\n",
      "250/250 [==============================] - 1s 3ms/step - loss: 0.0160\n",
      "Epoch 6/45\n",
      "250/250 [==============================] - 1s 3ms/step - loss: 0.0142\n",
      "Epoch 7/45\n",
      "250/250 [==============================] - 1s 3ms/step - loss: 0.0148\n",
      "Epoch 8/45\n",
      "250/250 [==============================] - 1s 5ms/step - loss: 0.0097\n",
      "Epoch 9/45\n",
      "250/250 [==============================] - 1s 4ms/step - loss: 0.0101\n",
      "Epoch 10/45\n",
      "250/250 [==============================] - 1s 3ms/step - loss: 0.0074\n",
      "Epoch 11/45\n",
      "250/250 [==============================] - 1s 3ms/step - loss: 0.0061\n",
      "Epoch 12/45\n",
      "250/250 [==============================] - 1s 3ms/step - loss: 0.0079\n",
      "Epoch 13/45\n",
      "250/250 [==============================] - 1s 3ms/step - loss: 0.0094\n",
      "Epoch 14/45\n",
      "250/250 [==============================] - 1s 4ms/step - loss: 0.0084\n",
      "Epoch 15/45\n",
      "250/250 [==============================] - 1s 5ms/step - loss: 0.0057\n",
      "Epoch 16/45\n",
      "250/250 [==============================] - 1s 4ms/step - loss: 0.0061\n",
      "Epoch 17/45\n",
      "250/250 [==============================] - 1s 4ms/step - loss: 0.0089\n",
      "Epoch 18/45\n",
      "250/250 [==============================] - 1s 4ms/step - loss: 0.0067\n",
      "Epoch 19/45\n",
      "250/250 [==============================] - 1s 5ms/step - loss: 0.0081\n",
      "Epoch 20/45\n",
      "250/250 [==============================] - 1s 5ms/step - loss: 0.0062\n",
      "Epoch 21/45\n",
      "250/250 [==============================] - 1s 6ms/step - loss: 0.0104\n",
      "Epoch 22/45\n",
      "250/250 [==============================] - 1s 5ms/step - loss: 0.0068\n",
      "Epoch 23/45\n",
      "250/250 [==============================] - 1s 6ms/step - loss: 0.0049\n",
      "Epoch 24/45\n",
      "250/250 [==============================] - 1s 6ms/step - loss: 0.0080\n",
      "Epoch 25/45\n",
      "250/250 [==============================] - 1s 6ms/step - loss: 0.0086\n",
      "Epoch 26/45\n",
      "250/250 [==============================] - 1s 6ms/step - loss: 0.0076\n",
      "Epoch 27/45\n",
      "250/250 [==============================] - 1s 6ms/step - loss: 0.0093\n",
      "Epoch 28/45\n",
      "250/250 [==============================] - 1s 6ms/step - loss: 0.0080\n",
      "Epoch 29/45\n",
      "250/250 [==============================] - 1s 6ms/step - loss: 0.0068\n",
      "Epoch 30/45\n",
      "250/250 [==============================] - 1s 6ms/step - loss: 0.0080\n",
      "Epoch 31/45\n",
      "250/250 [==============================] - 2s 6ms/step - loss: 0.0086\n",
      "Epoch 32/45\n",
      "250/250 [==============================] - 1s 4ms/step - loss: 0.0064\n",
      "Epoch 33/45\n",
      "250/250 [==============================] - 1s 4ms/step - loss: 0.0071\n",
      "Epoch 34/45\n",
      "250/250 [==============================] - 1s 4ms/step - loss: 0.0093\n",
      "Epoch 35/45\n",
      "250/250 [==============================] - 1s 3ms/step - loss: 0.0089\n",
      "Epoch 36/45\n",
      "250/250 [==============================] - 1s 4ms/step - loss: 0.0047\n",
      "Epoch 37/45\n",
      "250/250 [==============================] - 1s 5ms/step - loss: 0.0060\n",
      "Epoch 38/45\n",
      "250/250 [==============================] - 1s 5ms/step - loss: 0.0063\n",
      "Epoch 39/45\n",
      "250/250 [==============================] - 1s 4ms/step - loss: 0.0063\n",
      "Epoch 40/45\n",
      "250/250 [==============================] - 1s 5ms/step - loss: 0.0063\n",
      "Epoch 41/45\n",
      "250/250 [==============================] - 1s 4ms/step - loss: 0.0068\n",
      "Epoch 42/45\n",
      "250/250 [==============================] - 1s 5ms/step - loss: 0.0080\n",
      "Epoch 43/45\n",
      "250/250 [==============================] - 0s 2ms/step - loss: 0.0081\n",
      "Epoch 44/45\n",
      "250/250 [==============================] - 0s 2ms/step - loss: 0.0077\n",
      "Epoch 45/45\n",
      "250/250 [==============================] - 0s 2ms/step - loss: 0.0050\n"
     ]
    },
    {
     "data": {
      "text/plain": [
       "<keras.callbacks.History at 0x1e52a635840>"
      ]
     },
     "execution_count": 9,
     "metadata": {},
     "output_type": "execute_result"
    }
   ],
   "source": [
    "autoencoder.fit(data, data,\n",
    "                epochs=45,\n",
    "                batch_size=32)"
   ]
  },
  {
   "cell_type": "code",
   "execution_count": 10,
   "id": "2dd9a964",
   "metadata": {},
   "outputs": [],
   "source": [
    "# saving keras model\n",
    "from keras.models import load_model\n",
    "# if you want to save model then remove below comment\n",
    "# autoencoder.save('autoencoder_v_best.model')\n",
    "# making encoder from full autoencoder\n",
    "encoder = Model(input_signal, encoded2)\n",
    "# making decoder from full autoencoder\n",
    "encoded_input = Input(shape=(n_channel,))\n",
    "\n",
    "deco = autoencoder.layers[-2](encoded_input)\n",
    "deco = autoencoder.layers[-1](deco)\n",
    "decoder = Model(encoded_input, deco)"
   ]
  },
  {
   "cell_type": "code",
   "execution_count": 11,
   "id": "d7c902f3",
   "metadata": {},
   "outputs": [],
   "source": [
    "# generating data for checking BER\n",
    "# if you're not using t-sne for visulation than set N to 70,000 for better result \n",
    "# for t-sne use less N like N = 1500\n",
    "N = 50000\n",
    "test_label = np.random.randint(M,size=N)\n",
    "test_data = []\n",
    "\n",
    "for i in test_label:\n",
    "    temp = np.zeros(M)\n",
    "    temp[i] = 1\n",
    "    test_data.append(temp)\n",
    "    \n",
    "test_data = np.array(test_data)"
   ]
  },
  {
   "cell_type": "code",
   "execution_count": 12,
   "id": "a348fde8",
   "metadata": {},
   "outputs": [
    {
     "name": "stdout",
     "output_type": "stream",
     "text": [
      "1.0 1\n",
      "1/1 [==============================] - 0s 121ms/step\n",
      "1/1 [==============================] - 0s 32ms/step\n",
      "1/1 [==============================] - 0s 37ms/step\n",
      "1/1 [==============================] - 0s 41ms/step\n",
      "(4, 1, 2)\n"
     ]
    }
   ],
   "source": [
    "# checking generated data\n",
    "temp_test = 6\n",
    "print (test_data[temp_test][test_label[temp_test]],test_label[temp_test])\n",
    "# for plotting learned consteallation diagram\n",
    "\n",
    "scatter_plot = []\n",
    "for i in range(0,M):\n",
    "    temp = np.zeros(M)\n",
    "    temp[i] = 1\n",
    "    scatter_plot.append(encoder.predict(np.expand_dims(temp,axis=0)))\n",
    "scatter_plot = np.array(scatter_plot)\n",
    "print (scatter_plot.shape)"
   ]
  },
  {
   "cell_type": "code",
   "execution_count": 13,
   "id": "3d38e3da",
   "metadata": {},
   "outputs": [
    {
     "data": {
      "image/png": "[encoded data removed]",
      "text/plain": [
       "<Figure size 432x288 with 1 Axes>"
      ]
     },
     "metadata": {
      "needs_background": "light"
     },
     "output_type": "display_data"
    }
   ],
   "source": [
    "# ploting constellation diagram\n",
    "import matplotlib.pyplot as plt\n",
    "scatter_plot = scatter_plot.reshape(M,2,1)\n",
    "plt.scatter(scatter_plot[:,0],scatter_plot[:,1])\n",
    "plt.axis((-2.5,2.5,-2.5,2.5))\n",
    "plt.grid()\n",
    "plt.savefig('AutoEncoder_2_2_constillation')\n",
    "plt.show()\n",
    "def frange(x, y, jump):\n",
    "  while x < y:\n",
    "    yield x\n",
    "    x += jump"
   ]
  },
  {
   "cell_type": "code",
   "execution_count": 14,
   "id": "7102014f",
   "metadata": {},
   "outputs": [
    {
     "name": "stdout",
     "output_type": "stream",
     "text": [
      "1563/1563 [==============================] - 3s 2ms/step\n",
      "1563/1563 [==============================] - 5s 3ms/step\n",
      "SNR: -4 BER: 0.33846\n",
      "1563/1563 [==============================] - 4s 2ms/step\n",
      "1563/1563 [==============================] - 3s 2ms/step\n",
      "SNR: -3.5 BER: 0.32074\n",
      "1563/1563 [==============================] - 3s 2ms/step\n",
      "1563/1563 [==============================] - 3s 2ms/step\n",
      "SNR: -3.0 BER: 0.29762\n",
      "1563/1563 [==============================] - 4s 2ms/step\n",
      "1563/1563 [==============================] - 3s 2ms/step\n",
      "SNR: -2.5 BER: 0.27108\n",
      "1563/1563 [==============================] - 4s 3ms/step\n",
      "1563/1563 [==============================] - 5s 3ms/step\n",
      "SNR: -2.0 BER: 0.24682\n",
      "1563/1563 [==============================] - 5s 3ms/step\n",
      "1563/1563 [==============================] - 4s 3ms/step\n",
      "SNR: -1.5 BER: 0.22564\n",
      "1563/1563 [==============================] - 3s 2ms/step\n",
      "1563/1563 [==============================] - 4s 2ms/step\n",
      "SNR: -1.0 BER: 0.2039\n",
      "1563/1563 [==============================] - 3s 2ms/step\n",
      "1563/1563 [==============================] - 3s 2ms/step\n",
      "SNR: -0.5 BER: 0.1819\n",
      "1563/1563 [==============================] - 3s 2ms/step\n",
      "1563/1563 [==============================] - 3s 2ms/step\n",
      "SNR: 0.0 BER: 0.15722\n",
      "1563/1563 [==============================] - 3s 2ms/step\n",
      "1563/1563 [==============================] - 3s 2ms/step\n",
      "SNR: 0.5 BER: 0.13264\n",
      "1563/1563 [==============================] - 3s 2ms/step\n",
      "1563/1563 [==============================] - 3s 2ms/step\n",
      "SNR: 1.0 BER: 0.11304\n",
      "1563/1563 [==============================] - 3s 2ms/step\n",
      "1563/1563 [==============================] - 4s 2ms/step\n",
      "SNR: 1.5 BER: 0.0976\n",
      "1563/1563 [==============================] - 5s 3ms/step\n",
      "1563/1563 [==============================] - 4s 2ms/step\n",
      "SNR: 2.0 BER: 0.08002\n",
      "1563/1563 [==============================] - 3s 2ms/step\n",
      "1563/1563 [==============================] - 3s 2ms/step\n",
      "SNR: 2.5 BER: 0.06298\n",
      "1563/1563 [==============================] - 3s 2ms/step\n",
      "1563/1563 [==============================] - 4s 2ms/step\n",
      "SNR: 3.0 BER: 0.05206\n",
      "1563/1563 [==============================] - 5s 3ms/step\n",
      "1563/1563 [==============================] - 5s 3ms/step\n",
      "SNR: 3.5 BER: 0.03956\n",
      "1563/1563 [==============================] - 3s 2ms/step\n",
      "1563/1563 [==============================] - 4s 2ms/step\n",
      "SNR: 4.0 BER: 0.0295\n",
      "1563/1563 [==============================] - 4s 3ms/step\n",
      "1563/1563 [==============================] - 4s 3ms/step\n",
      "SNR: 4.5 BER: 0.02136\n",
      "1563/1563 [==============================] - 4s 3ms/step\n",
      "1563/1563 [==============================] - 3s 2ms/step\n",
      "SNR: 5.0 BER: 0.01586\n",
      "1563/1563 [==============================] - 4s 2ms/step\n",
      "1563/1563 [==============================] - 4s 3ms/step\n",
      "SNR: 5.5 BER: 0.01104\n",
      "1563/1563 [==============================] - 5s 3ms/step\n",
      "1563/1563 [==============================] - 5s 3ms/step\n",
      "SNR: 6.0 BER: 0.00756\n",
      "1563/1563 [==============================] - 5s 3ms/step\n",
      "1563/1563 [==============================] - 5s 3ms/step\n",
      "SNR: 6.5 BER: 0.0049\n",
      "1563/1563 [==============================] - 4s 3ms/step\n",
      "1563/1563 [==============================] - 4s 3ms/step\n",
      "SNR: 7.0 BER: 0.0029\n",
      "1563/1563 [==============================] - 4s 3ms/step\n",
      "1563/1563 [==============================] - 5s 3ms/step\n",
      "SNR: 7.5 BER: 0.00186\n",
      "1563/1563 [==============================] - 5s 3ms/step\n",
      "1563/1563 [==============================] - 4s 3ms/step\n",
      "SNR: 8.0 BER: 0.00084\n"
     ]
    }
   ],
   "source": [
    "# calculating BER\n",
    "# this is optimized BER function so it can handle large number of N\n",
    "# previous code has another for loop which was making it slow\n",
    "EbNodB_range = list(frange(-4,8.5,0.5))\n",
    "ber = [None]*len(EbNodB_range)\n",
    "for n in range(0,len(EbNodB_range)):\n",
    "    EbNo=10.0**(EbNodB_range[n]/10.0)\n",
    "    noise_std = np.sqrt(1/(2*R*EbNo))\n",
    "    noise_mean = 0\n",
    "    no_errors = 0\n",
    "    nn = N\n",
    "    noise = noise_std * np.random.randn(nn,n_channel)\n",
    "    encoded_signal = encoder.predict(test_data) \n",
    "    final_signal = encoded_signal + noise\n",
    "    pred_final_signal =  decoder.predict(final_signal)\n",
    "    pred_output = np.argmax(pred_final_signal,axis=1)\n",
    "    no_errors = (pred_output != test_label)\n",
    "    no_errors =  no_errors.astype(int).sum()\n",
    "    ber[n] = no_errors / nn \n",
    "    print ('SNR:',EbNodB_range[n],'BER:',ber[n])"
   ]
  },
  {
   "cell_type": "code",
   "execution_count": 15,
   "id": "71652748",
   "metadata": {},
   "outputs": [
    {
     "data": {
      "image/png": "[encoded data removed]",
      "text/plain": [
       "<Figure size 432x288 with 1 Axes>"
      ]
     },
     "metadata": {
      "needs_background": "light"
     },
     "output_type": "display_data"
    }
   ],
   "source": [
    "    # use below line for generating matlab like matrix which can be copy and paste for plotting ber graph in matlab\n",
    "    #print(ber[n], \" \",end='')\n",
    "# ploting ber curve\n",
    "import matplotlib.pyplot as plt\n",
    "from scipy import interpolate\n",
    "plt.plot(EbNodB_range, ber, 'bo',label='Autoencoder(2,2)')\n",
    "plt.yscale('log')\n",
    "plt.xlabel('SNR Range')\n",
    "plt.ylabel('Block Error Rate')\n",
    "plt.grid()\n",
    "plt.legend(loc='upper right',ncol = 1)\n",
    "# for saving figure remove below comment\n",
    "plt.savefig('AutoEncoder_2_2_constrained_BER_matplotlib')\n",
    "plt.show()"
   ]
  }
 ],
 "metadata": {
  "kernelspec": {
   "display_name": "Python 3 (ipykernel)",
   "language": "python",
   "name": "python3"
  },
  "language_info": {
   "codemirror_mode": {
    "name": "ipython",
    "version": 3
   },
   "file_extension": ".py",
   "mimetype": "text/x-python",
   "name": "python",
   "nbconvert_exporter": "python",
   "pygments_lexer": "ipython3",
   "version": "3.9.12"
  }
 },
 "nbformat": 4,
 "nbformat_minor": 5
}
