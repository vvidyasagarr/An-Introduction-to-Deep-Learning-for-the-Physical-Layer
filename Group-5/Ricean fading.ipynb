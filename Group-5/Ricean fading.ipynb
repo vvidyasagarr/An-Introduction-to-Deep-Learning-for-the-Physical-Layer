{
 "cells": [
  {
   "cell_type": "code",
   "execution_count": 1,
   "id": "53620a47",
   "metadata": {},
   "outputs": [],
   "source": [
    "# importing libs\n",
    "import numpy as np\n",
    "import tensorflow as tf\n",
    "import keras\n",
    "from keras.layers import Input, Dense, GaussianNoise,Lambda,Dropout\n",
    "from keras.models import Model\n",
    "from keras import regularizers\n",
    "from tensorflow.keras.layers import BatchNormalization\n",
    "from keras.optimizers import Adam,SGD\n",
    "from keras import backend as K"
   ]
  },
  {
   "cell_type": "code",
   "execution_count": 2,
   "id": "179d1dfd",
   "metadata": {},
   "outputs": [
    {
     "name": "stdout",
     "output_type": "stream",
     "text": [
      "M: 4 k: 2 n: 2\n"
     ]
    }
   ],
   "source": [
    "# for reproducing reslut\n",
    "from numpy.random import seed\n",
    "seed(1)\n",
    "import tensorflow \n",
    "tensorflow.random.set_seed(3)\n",
    "# defining parameters\n",
    "# define (n,k) here for (n,k) autoencoder\n",
    "# n = n_channel \n",
    "# k = log2(M)  ==> so for (7,4) autoencoder n_channel = 7 and M = 2^4 = 16 \n",
    "M = 4\n",
    "k = np.log2(M)\n",
    "k = int(k)\n",
    "n_channel = 2\n",
    "R = k/n_channel\n",
    "print ('M:',M,'k:',k,'n:',n_channel)"
   ]
  },
  {
   "cell_type": "code",
   "execution_count": 3,
   "id": "c656b3fe",
   "metadata": {},
   "outputs": [
    {
     "name": "stdout",
     "output_type": "stream",
     "text": [
      "(8000, 4)\n"
     ]
    }
   ],
   "source": [
    "#generating data of size N\n",
    "N = 8000\n",
    "label = np.random.randint(M,size=N)\n",
    "# creating one hot encoded vectors\n",
    "data = []\n",
    "for i in label:\n",
    "    temp = np.zeros(M)\n",
    "    temp[i] = 1\n",
    "    data.append(temp)\n",
    "# checking data shape\n",
    "data = np.array(data)\n",
    "print (data.shape)"
   ]
  },
  {
   "cell_type": "code",
   "execution_count": 4,
   "id": "131739ff",
   "metadata": {},
   "outputs": [
    {
     "name": "stderr",
     "output_type": "stream",
     "text": [
      "C:\\Users\\Surya\\AppData\\Local\\Programs\\Python\\Python310\\lib\\site-packages\\keras\\optimizers\\optimizer_v2\\adam.py:110: UserWarning: The `lr` argument is deprecated, use `learning_rate` instead.\n",
      "  super(Adam, self).__init__(name, **kwargs)\n"
     ]
    }
   ],
   "source": [
    "# defining autoencoder and it's layer\n",
    "input_signal = Input(shape=(M,))\n",
    "encoded = Dense(128, activation='relu')(input_signal)\n",
    "encoded1 = Dense(n_channel, activation='linear')(encoded)\n",
    "encoded2 = Lambda(lambda x: np.sqrt(n_channel)*K.l2_normalize(x,axis=1))(encoded1)\n",
    "\n",
    "EbNo_train = 5.01187 #  coverted 7 db of EbNo\n",
    "encoded3 = GaussianNoise(np.sqrt(1/(2*R*EbNo_train)))(encoded2)\n",
    "\n",
    "decoded = Dense(M, activation='relu')(encoded3)\n",
    "decoded1 = Dense(M, activation='softmax')(decoded)\n",
    "autoencoder = Model(input_signal, decoded1)\n",
    "adam = Adam(lr=0.01)\n",
    "autoencoder.compile(optimizer=adam, loss='categorical_crossentropy')"
   ]
  },
  {
   "cell_type": "code",
   "execution_count": 5,
   "id": "07488206",
   "metadata": {},
   "outputs": [],
   "source": [
    "# saving keras model\n",
    "from keras.models import load_model"
   ]
  },
  {
   "cell_type": "code",
   "execution_count": 6,
   "id": "bbca37d1",
   "metadata": {},
   "outputs": [],
   "source": [
    "# making encoder from full autoencoder\n",
    "encoder = Model(input_signal, encoded2)\n",
    "# making decoder from full autoencoder\n",
    "encoded_input = Input(shape=(n_channel,))\n",
    "\n",
    "deco = autoencoder.layers[-2](encoded_input)\n",
    "deco = autoencoder.layers[-1](deco)\n",
    "decoder = Model(encoded_input, deco)"
   ]
  },
  {
   "cell_type": "code",
   "execution_count": 7,
   "id": "6791c217",
   "metadata": {},
   "outputs": [
    {
     "name": "stdout",
     "output_type": "stream",
     "text": [
      "1.0 1\n"
     ]
    }
   ],
   "source": [
    "# generating data for checking BER\n",
    "# if you're not using t-sne for visulation than set N to 70,000 for better result \n",
    "# for t-sne use less N like N = 1500\n",
    "N = 50000\n",
    "test_label = np.random.randint(M,size=N)\n",
    "test_data = []\n",
    "\n",
    "for i in test_label:\n",
    "    temp = np.zeros(M)\n",
    "    temp[i] = 1\n",
    "    test_data.append(temp)\n",
    "    \n",
    "test_data = np.array(test_data)\n",
    "# checking generated data\n",
    "temp_test = 6\n",
    "print (test_data[temp_test][test_label[temp_test]],test_label[temp_test])"
   ]
  },
  {
   "cell_type": "code",
   "execution_count": 8,
   "id": "970cca07",
   "metadata": {},
   "outputs": [
    {
     "name": "stdout",
     "output_type": "stream",
     "text": [
      "1/1 [==============================] - 0s 172ms/step\n",
      "1/1 [==============================] - 0s 39ms/step\n",
      "1/1 [==============================] - 0s 25ms/step\n",
      "1/1 [==============================] - 0s 35ms/step\n",
      "(4, 1, 2)\n"
     ]
    }
   ],
   "source": [
    "# for plotting learned consteallation diagram\n",
    "scatter_plot = []\n",
    "for i in range(0,M):\n",
    "    temp = np.zeros(M)\n",
    "    temp[i] = 1\n",
    "    scatter_plot.append(encoder.predict(np.expand_dims(temp,axis=0)))\n",
    "scatter_plot = np.array(scatter_plot)\n",
    "print (scatter_plot.shape)"
   ]
  },
  {
   "cell_type": "code",
   "execution_count": 9,
   "id": "5fda9f9a",
   "metadata": {},
   "outputs": [
    {
     "data": {
      "image/png": "[encoded data removed]",
      "text/plain": [
       "<Figure size 432x288 with 1 Axes>"
      ]
     },
     "metadata": {
      "needs_background": "light"
     },
     "output_type": "display_data"
    }
   ],
   "source": [
    "# ploting constellation diagram\n",
    "import matplotlib.pyplot as plt\n",
    "scatter_plot = scatter_plot.reshape(M,2,1)\n",
    "plt.scatter(scatter_plot[:,0],scatter_plot[:,1])\n",
    "plt.axis((-2.5,2.5,-2.5,2.5))\n",
    "plt.grid()\n",
    "plt.show()\n",
    "def frange(x, y, jump):\n",
    "  while x < y:\n",
    "    yield x\n",
    "    x += jump"
   ]
  },
  {
   "cell_type": "code",
   "execution_count": 10,
   "id": "012671c2",
   "metadata": {},
   "outputs": [
    {
     "data": {
      "image/png": "[encoded data removed]",
      "text/plain": [
       "<Figure size 432x288 with 1 Axes>"
      ]
     },
     "metadata": {
      "needs_background": "light"
     },
     "output_type": "display_data"
    }
   ],
   "source": [
    "# calculating BER\n",
    "from scipy.stats import rice\n",
    "\n",
    "# Define the Rice distribution parameters\n",
    "K = 0.5 # scale parameter\n",
    "sigma = 0.1 # shape parameter\n",
    "\n",
    "# Generate Rician noise samples\n",
    "n = rice.rvs(K, scale=sigma, size=10000)\n",
    "\n",
    "# Plot the Ricean noise\n",
    "import matplotlib.pyplot as plt\n",
    "plt.hist(n, bins='auto')\n",
    "plt.show()"
   ]
  },
  {
   "cell_type": "code",
   "execution_count": 13,
   "id": "aa1bb05a",
   "metadata": {},
   "outputs": [
    {
     "name": "stdout",
     "output_type": "stream",
     "text": [
      "1563/1563 [==============================] - 4s 2ms/step\n",
      "1563/1563 [==============================] - 3s 2ms/step\n",
      "SNR: -4 BER: 0.74742\n",
      "1563/1563 [==============================] - 3s 2ms/step\n",
      "1563/1563 [==============================] - 4s 2ms/step\n",
      "SNR: -3.5 BER: 0.71284\n",
      "1563/1563 [==============================] - 3s 2ms/step\n",
      "1563/1563 [==============================] - 3s 2ms/step\n",
      "SNR: -3.0 BER: 0.7131\n",
      "1563/1563 [==============================] - 3s 2ms/step\n",
      "1563/1563 [==============================] - 3s 2ms/step\n",
      "SNR: -2.5 BER: 0.71776\n",
      "1563/1563 [==============================] - 3s 2ms/step\n",
      "1563/1563 [==============================] - 4s 2ms/step\n",
      "SNR: -2.0 BER: 0.7245\n",
      "1563/1563 [==============================] - 3s 2ms/step\n",
      "1563/1563 [==============================] - 2s 2ms/step\n",
      "SNR: -1.5 BER: 0.728\n",
      "1563/1563 [==============================] - 3s 2ms/step\n",
      "1563/1563 [==============================] - 4s 3ms/step\n",
      "SNR: -1.0 BER: 0.73098\n",
      "1563/1563 [==============================] - 4s 2ms/step\n",
      "1563/1563 [==============================] - 4s 3ms/step\n",
      "SNR: -0.5 BER: 0.73544\n",
      "1563/1563 [==============================] - 3s 2ms/step\n",
      "1563/1563 [==============================] - 3s 2ms/step\n",
      "SNR: 0.0 BER: 0.73542\n",
      "1563/1563 [==============================] - 5s 3ms/step\n",
      "1563/1563 [==============================] - 6s 4ms/step\n",
      "SNR: 0.5 BER: 0.73798\n",
      "1563/1563 [==============================] - 3s 2ms/step\n",
      "1563/1563 [==============================] - 5s 3ms/step\n",
      "SNR: 1.0 BER: 0.73892\n",
      "1563/1563 [==============================] - 3s 2ms/step\n",
      "1563/1563 [==============================] - 4s 3ms/step\n",
      "SNR: 1.5 BER: 0.7392\n",
      "1563/1563 [==============================] - 3s 2ms/step\n",
      "1563/1563 [==============================] - 4s 2ms/step\n",
      "SNR: 2.0 BER: 0.74084\n",
      "1563/1563 [==============================] - 6s 3ms/step\n",
      "1563/1563 [==============================] - 4s 3ms/step\n",
      "SNR: 2.5 BER: 0.7418\n",
      "1563/1563 [==============================] - 4s 2ms/step\n",
      "1563/1563 [==============================] - 5s 3ms/step\n",
      "SNR: 3.0 BER: 0.74216\n",
      "1563/1563 [==============================] - 4s 2ms/step\n",
      "1563/1563 [==============================] - 5s 3ms/step\n",
      "SNR: 3.5 BER: 0.73986\n",
      "1563/1563 [==============================] - 3s 2ms/step\n",
      "1563/1563 [==============================] - 5s 3ms/step\n",
      "SNR: 4.0 BER: 0.74046\n",
      "1563/1563 [==============================] - 3s 2ms/step\n",
      "1563/1563 [==============================] - 4s 2ms/step\n",
      "SNR: 4.5 BER: 0.74284\n",
      "1563/1563 [==============================] - 6s 4ms/step\n",
      "1563/1563 [==============================] - 6s 4ms/step\n",
      "SNR: 5.0 BER: 0.7452\n",
      "1563/1563 [==============================] - 4s 3ms/step\n",
      "1563/1563 [==============================] - 5s 3ms/step\n",
      "SNR: 5.5 BER: 0.74464\n",
      "1563/1563 [==============================] - 4s 3ms/step\n",
      "1563/1563 [==============================] - 5s 3ms/step\n",
      "SNR: 6.0 BER: 0.74182\n",
      "1563/1563 [==============================] - 4s 3ms/step\n",
      "1563/1563 [==============================] - 5s 3ms/step\n",
      "SNR: 6.5 BER: 0.7459\n",
      "1563/1563 [==============================] - 3s 2ms/step\n",
      "1563/1563 [==============================] - 5s 3ms/step\n",
      "SNR: 7.0 BER: 0.74206\n",
      "1563/1563 [==============================] - 3s 2ms/step\n",
      "1563/1563 [==============================] - 5s 3ms/step\n",
      "SNR: 7.5 BER: 0.74574\n",
      "1563/1563 [==============================] - 3s 2ms/step\n",
      "1563/1563 [==============================] - 4s 3ms/step\n",
      "SNR: 8.0 BER: 0.7431\n"
     ]
    }
   ],
   "source": [
    "# this is optimized BER function so it can handle large number of N\n",
    "# previous code has another for loop which was making it slow\n",
    "EbNodB_range = list(frange(-4,8.5,0.5))\n",
    "ber = [None]*len(EbNodB_range)\n",
    "for n in range(0,len(EbNodB_range)):\n",
    "    EbNo=10.0**(EbNodB_range[n]/10.0)\n",
    "    noise_std = np.sqrt(1/(2*R*EbNo))\n",
    "    noise_mean = 0\n",
    "    no_errors = 0\n",
    "    nn = N\n",
    "                                 \n",
    "    # Generate Rician noise samples\n",
    "    noise = rice.rvs(K, scale=sigma+n, size=(N, 2))\n",
    "    \n",
    "    encoded_signal = encoder.predict(test_data) \n",
    "    final_signal = encoded_signal + noise\n",
    "    pred_final_signal =  decoder.predict(final_signal)\n",
    "    pred_output = np.argmax(pred_final_signal,axis=1)\n",
    "    no_errors = (pred_output != test_label)\n",
    "    no_errors =  no_errors.astype(int).sum()\n",
    "    ber[n] = no_errors / nn \n",
    "    print ('SNR:',EbNodB_range[n],'BER:',ber[n])"
   ]
  },
  {
   "cell_type": "code",
   "execution_count": 14,
   "id": "bae489cb",
   "metadata": {},
   "outputs": [
    {
     "data": {
      "image/png": "[encoded data removed]",
      "text/plain": [
       "<Figure size 432x288 with 1 Axes>"
      ]
     },
     "metadata": {
      "needs_background": "light"
     },
     "output_type": "display_data"
    }
   ],
   "source": [
    "import matplotlib.pyplot as plt\n",
    "from scipy import interpolate\n",
    "plt.plot(EbNodB_range, ber, 'bo',label='Autoencoder(2,2)')\n",
    "plt.yscale('log')\n",
    "plt.xlabel('SNR Range')\n",
    "plt.ylabel('Block Error Rate')\n",
    "plt.grid()\n",
    "plt.legend(loc='upper right',ncol = 1)\n",
    "# for saving figure remove below comment\n",
    "plt.savefig('AutoEncoder_2_2_constrained_BER_matplotlib')\n",
    "plt.show()"
   ]
  }
 ],
 "metadata": {
  "kernelspec": {
   "display_name": "Python 3 (ipykernel)",
   "language": "python",
   "name": "python3"
  },
  "language_info": {
   "codemirror_mode": {
    "name": "ipython",
    "version": 3
   },
   "file_extension": ".py",
   "mimetype": "text/x-python",
   "name": "python",
   "nbconvert_exporter": "python",
   "pygments_lexer": "ipython3",
   "version": "3.9.12"
  }
 },
 "nbformat": 4,
 "nbformat_minor": 5
}
